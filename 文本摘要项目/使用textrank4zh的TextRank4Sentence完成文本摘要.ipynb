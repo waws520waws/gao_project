{
 "cells": [
  {
   "cell_type": "code",
   "execution_count": 1,
   "id": "b0ee0935",
   "metadata": {},
   "outputs": [],
   "source": [
    "import pandas as pd\n",
    "import numpy as np\n",
    "import cchardet\n",
    "import re\n",
    "from textrank4zh import TextRank4Keyword, TextRank4Sentence\n",
    "import jieba\n",
    "from gensim.models import Word2Vec\n",
    "from sklearn.metrics.pairwise import cosine_similarity\n",
    "from tqdm.notebook import tqdm\n",
    "import warnings\n",
    "warnings.filterwarnings(\"ignore\")"
   ]
  },
  {
   "cell_type": "code",
   "execution_count": 2,
   "id": "07c95142",
   "metadata": {},
   "outputs": [],
   "source": [
    "df = pd.read_csv(\"chinese_news.csv\",encoding=\"gb18030\")\n",
    "df = df.dropna(subset = ['content',\"title\"])\n",
    "df = df.reset_index(drop=True)\n",
    "# 截断数据，小规模测试\n",
    "df = df[:201]"
   ]
  },
  {
   "cell_type": "code",
   "execution_count": 3,
   "id": "5cf41886",
   "metadata": {},
   "outputs": [],
   "source": [
    "class textSummary(object):\n",
    "    def __init__(self,N):\n",
    "        super().__init__()\n",
    "        self.N = N\n",
    "    \n",
    "    def drop_brackets_content(self,sentence):\n",
    "        \"\"\"\n",
    "        清除括号中内容\n",
    "        \"\"\"\n",
    "        pattern  = \"（[\\s\\S]*?）\"\n",
    "        res = re.sub(pattern,\"\",sentence)\n",
    "        return res\n",
    "    \n",
    "    def clean_sentence(self,sentence):\n",
    "        \"\"\"\n",
    "        去掉空格和换行符\n",
    "        \"\"\"\n",
    "        clean_sentence = sentence.replace(\"\\r\\n\",\"\").replace(\"　　\",\"\")\n",
    "        return clean_sentence\n",
    "    \n",
    "    \n",
    "    def clean_and_drop_brackets_content(self,sentence):\n",
    "        \"\"\"\n",
    "        清除括号内容和空格\n",
    "        \"\"\"\n",
    "        return self.clean_sentence(self.drop_brackets_content(sentence))\n",
    "    \n",
    "    \n",
    "    def save_key_sentence(self,sentence,title):\n",
    "        \"\"\"\n",
    "        通过textrank获取关键词\n",
    "        \"\"\"\n",
    "        sentence_score_list = []\n",
    "        tr4s = TextRank4Sentence()\n",
    "        tr4s.analyze(text=sentence, lower=True, source = 'all_filters')\n",
    "        \n",
    "        sentence_score_list.append((title+\"。\",0.5))\n",
    "\n",
    "        for item in tr4s.get_key_sentences(num=100):\n",
    "            sentence_score_list.append((item.sentence,item.weight))\n",
    "        sentence_score_list.sort(key=lambda x:-x[1])\n",
    "        print(sentence_score_list)\n",
    "        return sentence_score_list\n",
    "    \n",
    "    \n",
    "    def output_summary(self,sentence_score_list):\n",
    "        \"\"\"\n",
    "        按照句子的分数取出句子进行拼接，直到逼近字数N为止\n",
    "        \"\"\"\n",
    "        sentence = \"\"\n",
    "        for key,value in sentence_score_list:\n",
    "            if len(sentence) < self.N:\n",
    "                sentence += key\n",
    "            else:\n",
    "                break\n",
    "        return sentence"
   ]
  },
  {
   "cell_type": "code",
   "execution_count": 4,
   "id": "6dd1d947",
   "metadata": {},
   "outputs": [],
   "source": [
    "def get_input_artical_summary(_index):\n",
    "    \"\"\"\n",
    "    只写一种：根据_index指定chinese_news的文章id进行摘要提取\n",
    "    \"\"\"\n",
    "    df = pd.read_csv(\"chinese_news.csv\",encoding=\"gb18030\")\n",
    "    df = df.dropna(subset = ['content',\"title\"])\n",
    "    df = df.reset_index(drop=True)\n",
    "    \n",
    "    ts = textSummary(100)\n",
    "    \n",
    "    # 截断数据，小规模测试\n",
    "    df = df[:201]\n",
    "    \n",
    "    return ts.output_summary(ts.save_key_sentence(ts.clean_and_drop_brackets_content(df[\"content\"][_index]),ts.clean_and_drop_brackets_content(df[\"title\"][_index])))"
   ]
  },
  {
   "cell_type": "code",
   "execution_count": 11,
   "id": "e25db930",
   "metadata": {},
   "outputs": [
    {
     "name": "stdout",
     "output_type": "stream",
     "text": [
      "[('火灾与脱欧炙烤英国首相 特雷莎·梅面临空前政治压力。', 0.5), ('路透社称，梅决定提前大选，又未能让保守党在大选中获得绝对多数，已经让英国陷入自一年前“脱欧”公投以来最深刻的政治危机中', 0.048921632854693795), ('英国《每日电讯报》称，议会选举败北后，梅对14日“格伦费尔塔”火灾的无情和迟钝反应令她陷入巨大的政治危险', 0.048780382733447036), ('“梅承认做得不够好”，BBC17日称，为平息怒火，梅当天抽出2小时，在唐宁街会见灾民和志愿者，并主持了一场政府应对火灾的会议', 0.0450318834841547), ('路透社17日称，火灾发生后，英国女王伊丽莎白二世和她的孙子威廉王子16日赴火灾发生地探望灾民和志愿者，女王17日又在自己91岁官方生日庆典上主持了1分钟的默哀仪式，并针对英国近来发生的数起事故“罕见”地呼吁民众“在哀伤中团结起来”', 0.04430888243052025), ('专栏作家、前保守党议员帕里斯认为，现在，梅应对火灾的行动表明，她缺乏判断力，“若无法重建公众信任，这个首相当不久”', 0.04228843473460915), ('这场集会原本是抗议梅率领的保守党与爱尔兰民主统一党谈判联合组阁的，但后来加入了许多对梅应对火灾不力不满的民众', 0.04114364248512619), ('英国“天空新闻网”17日称，梅在事发后视察火灾现场但未慰问灾民备受指责', 0.04088802856772735), ('《星期日电讯报》18日也引述一些保守党“脱欧”派资深人士的话说，如果梅在即将展开的“脱欧”谈判中，背离原来的“硬脱欧”计划，他们就会立即对梅的领导权提出挑战', 0.039988488550341664), ('《星期日泰晤士报》18日称，在梅领导的保守党内，人们对梅的信心不断下降，现在一些人甚至已经向她发出最后通牒，要求她在10天内证明她拥有自己所说的“领导能力”，否则就会采取行动赶她下台', 0.03954459213855338), ('报道称，除英国女王外，工党领袖科尔宾也在第一时间去了现场并探望幸存者，他们的做法与梅形成“鲜明对比”', 0.03764200730034719), ('报道透露，至少12名保守党议员已打算致函代表保守党后座议员的组织——1922委员会，建议对梅提出不信任动议', 0.03706264918705981), ('一幅显示梅慰问火灾生还者受到警卫严密保护，另一幅则是女王与受灾社区居民亲切交谈的场景', 0.03650327692194972), ('路透社称，如果数字最终确定，“格伦费尔塔”火灾将成为二战后英国发生的最严重火灾', 0.03533162010131021), ('英国舆论沉浸在悲伤气氛中的同时，把矛头指向了首相梅的“冷漠”和应对不当', 0.03404044944560001), ('批评者指出，梅在灾后的表现和女王形成“鲜明对比”，显示出梅未能感受到公众情绪，且行动不坚决', 0.03335778768944101), ('英国《独立报》称，17日下午，大约1000名抗议者出现在唐宁街，高呼“科尔宾上台”“对抗保守党政府”', 0.03311710331633269), ('作为补救，梅16日来到火灾发生地附近的一座教堂与当地居民见面', 0.03304286131473545), ('“脱欧”派议员警告说，任何让英国留在欧盟内的企图，或任何“偏航”的做法，都将在“一夜之间”触发“政变”', 0.03150677883037799), ('18日，多家英媒爆出，由于对梅失去信任，保守党党内正在酝酿一场“政变”', 0.03142417919752461), ('其原创性以及文中陈述文字和内容未经本站证实，对本文以及其中全部或者部分内容、文字的真实性、完整性、及时性本站不作任何保证或承诺，请读者仅作参考，并请自行核实相关内容', 0.03025995178776329), ('不久前的大选失利让梅饱受诟病，而尘埃未落的伦敦城西“格伦费尔塔”大火激起的民怨，又给梅“火上浇油”', 0.029317396979871468), ('17日的英媒报道中充满了对梅的讽刺， 英国《每日镜报》头版以“两位领袖的故事”为题对比了梅和女王的灾后表现，并附上两幅截然不同的照片', 0.02866245247400762), ('【记者 黄培昭 伊文】来源：新华网免责声明：本文仅代表作者个人观点，与环球网无关', 0.027894984363685635), ('但抗议者在教堂外大喊“懦夫”“你不受欢迎”等口号，梅只好在警卫护送下匆匆离去', 0.027890996760899348), ('她承诺将亲自监督进行相关公共调查，拿出500万英镑支持灾民，并表示无家可归者将在3周内得到重新安置', 0.026619159362898524), ('英国与欧盟的“脱欧”谈判于19日正式开始', 0.026572340383684757), ('根据伦敦警方17日公布的数字，至少有58人被推定在火灾中丧生，随着搜寻工作继续进行，这一数字可能还会上升', 0.026546371307999632), ('然而此时，英国首相特雷莎·梅正面临着空前的政治压力', 0.023038144089865587), ('然而，就在17日下午，首相官邸所在的唐宁街爆发了大规模抗议活动', 0.01927352120547206)]\n"
     ]
    },
    {
     "data": {
      "text/plain": [
       "'火灾与脱欧炙烤英国首相 特雷莎·梅面临空前政治压力。路透社称，梅决定提前大选，又未能让保守党在大选中获得绝对多数，已经让英国陷入自一年前“脱欧”公投以来最深刻的政治危机中英国《每日电讯报》称，议会选举败北后，梅对14日“格伦费尔塔”火灾的无情和迟钝反应令她陷入巨大的政治危险'"
      ]
     },
     "execution_count": 11,
     "metadata": {},
     "output_type": "execute_result"
    }
   ],
   "source": [
    "get_input_artical_summary(27)"
   ]
  },
  {
   "cell_type": "markdown",
   "id": "43aaef1b",
   "metadata": {},
   "source": [
    "### 改动库的源码，操作需谨慎\n",
    "- 上面的代码中我们可以看到我们的句子是没有分割标点符号的\n",
    "- 所以查找源代码发现使用的是str.split的方式，这样确实会导致分隔符的标点符号的丢失\n",
    "- 所以对源码进行改造，改成re.split的方式\n",
    "\n",
    "```python\n",
    "import re\n",
    "class SentenceSegmentation(object):\n",
    "    \"\"\" 分句 \"\"\"\n",
    "    \n",
    "    def __init__(self, delimiters=util.sentence_delimiters):\n",
    "        \"\"\"\n",
    "        Keyword arguments:\n",
    "        delimiters -- 可迭代对象，用来拆分句子\n",
    "        \"\"\"\n",
    "        self.delimiters = set([util.as_text(item) for item in delimiters])\n",
    "    \n",
    "    def segment(self, text):\n",
    "        res = [util.as_text(text)]\n",
    "        \n",
    "        util.debug(res)\n",
    "        util.debug(self.delimiters)\n",
    "        \n",
    "        # 原始的str.split的方式\n",
    "        # for sep in self.delimiters:\n",
    "        #     text, res = res, []\n",
    "        #     for seq in text:\n",
    "        #         res += seq.split(sep)\n",
    "        # res = [s.strip() for s in res if len(s.strip()) > 0]\n",
    "        \n",
    "        # new 使用re.split的方式\n",
    "        sentences = re.split(r\"([。!！?？；;\\s+])\", text)[:-1]\n",
    "        sentences.append(\"\")\n",
    "        res = [\"\".join(i) for i in zip(sentences[0::2], sentences[1::2])]\n",
    "        return res\n",
    "```"
   ]
  },
  {
   "cell_type": "code",
   "execution_count": 5,
   "id": "43562051",
   "metadata": {},
   "outputs": [
    {
     "name": "stderr",
     "output_type": "stream",
     "text": [
      "Building prefix dict from the default dictionary ...\n",
      "Loading model from cache C:\\Users\\waws\\AppData\\Local\\Temp\\jieba.cache\n",
      "Loading model cost 0.500 seconds.\n",
      "Prefix dict has been built successfully.\n"
     ]
    },
    {
     "name": "stdout",
     "output_type": "stream",
     "text": [
      "[('火灾与脱欧炙烤英国首相 特雷莎·梅面临空前政治压力。', 0.5), ('路透社称，梅决定提前大选，又未能让保守党在大选中获得绝对多数，已经让英国陷入自一年前“脱欧”公投以来最深刻的政治危机中。', 0.04764709847300687), ('英国《每日电讯报》称，议会选举败北后，梅对14日“格伦费尔塔”火灾的无情和迟钝反应令她陷入巨大的政治危险。', 0.04743574509428193), ('“梅承认做得不够好”，BBC17日称，为平息怒火，梅当天抽出2小时，在唐宁街会见灾民和志愿者，并主持了一场政府应对火灾的会议。', 0.04373474311076242), ('路透社17日称，火灾发生后，英国女王伊丽莎白二世和她的孙子威廉王子16日赴火灾发生地探望灾民和志愿者，女王17日又在自己91岁官方生日庆典上主持了1分钟的默哀仪式，并针对英国近来发生的数起事故“罕见”地呼吁民众“在哀伤中团结起来”。', 0.0431413544755193), ('专栏作家、前保守党议员帕里斯认为，现在，梅应对火灾的行动表明，她缺乏判断力，“若无法重建公众信任，这个首相当不久”。', 0.04118733757527311), ('这场集会原本是抗议梅率领的保守党与爱尔兰民主统一党谈判联合组阁的，但后来加入了许多对梅应对火灾不力不满的民众。', 0.03997833528398352), ('英国“天空新闻网”17日称，梅在事发后视察火灾现场但未慰问灾民备受指责。', 0.03980038085156115), ('《星期日电讯报》18日也引述一些保守党“脱欧”派资深人士的话说，如果梅在即将展开的“脱欧”谈判中，背离原来的“硬脱欧”计划，他们就会立即对梅的领导权提出挑战。', 0.038896868519705904), ('《星期日泰晤士报》18日称，在梅领导的保守党内，人们对梅的信心不断下降，现在一些人甚至已经向她发出最后通牒，要求她在10天内证明她拥有自己所说的“领导能力”，否则就会采取行动赶她下台。', 0.03846851191833982), ('报道称，除英国女王外，工党领袖科尔宾也在第一时间去了现场并探望幸存者，他们的做法与梅形成“鲜明对比”。', 0.03833177128250652), ('报道透露，至少12名保守党议员已打算致函代表保守党后座议员的组织——1922委员会，建议对梅提出不信任动议。', 0.03784000878377203), ('一幅显示梅慰问火灾生还者受到警卫严密保护，另一幅则是女王与受灾社区居民亲切交谈的场景。', 0.03552157224919929), ('路透社称，如果数字最终确定，“格伦费尔塔”火灾将成为二战后英国发生的最严重火灾。', 0.034333867648943736), ('英国舆论沉浸在悲伤气氛中的同时，把矛头指向了首相梅的“冷漠”和应对不当。', 0.03314139608800579), ('批评者指出，梅在灾后的表现和女王形成“鲜明对比”，显示出梅未能感受到公众情绪，且行动不坚决。', 0.03266760243057755), ('英国《独立报》称，17日下午，大约1000名抗议者出现在唐宁街，高呼“科尔宾上台”“对抗保守党政府”。', 0.03221905892471047), ('作为补救，梅16日来到火灾发生地附近的一座教堂与当地居民见面。', 0.03209464878788047), ('“脱欧”派议员警告说，任何让英国留在欧盟内的企图，或任何“偏航”的做法，都将在“一夜之间”触发“政变”。', 0.030650658745180567), ('18日，多家英媒爆出，由于对梅失去信任，保守党党内正在酝酿一场“政变”。', 0.030608092420328834), ('其原创性以及文中陈述文字和内容未经本站证实，对本文以及其中全部或者部分内容、文字的真实性、完整性、及时性本站不作任何保证或承诺，请读者仅作参考，并请自行核实相关内容。', 0.02899398214855962), ('不久前的大选失利让梅饱受诟病，而尘埃未落的伦敦城西“格伦费尔塔”大火激起的民怨，又给梅“火上浇油”。', 0.02845819516588399), ('但抗议者在教堂外大喊“懦夫”“你不受欢迎”等口号，梅只好在警卫护送下匆匆离去。', 0.02708820552204967), ('伊文】来源：新华网免责声明：本文仅代表作者个人观点，与环球网无关。', 0.025964117041354772), ('英国与欧盟的“脱欧”谈判于19日正式开始。', 0.02582136284129741), ('根据伦敦警方17日公布的数字，至少有58人被推定在火灾中丧生，随着搜寻工作继续进行，这一数字可能还会上升。', 0.02563908702609246), ('她承诺将亲自监督进行相关公共调查，拿出500万英镑支持灾民，并表示无家可归者将在3周内得到重新安置。', 0.025574051117441484), ('英国《每日镜报》头版以“两位领袖的故事”为题对比了梅和女王的灾后表现，并附上两幅截然不同的照片。', 0.025560266363325458), ('然而此时，英国首相特雷莎·梅正面临着空前的政治压力。', 0.02209735248425349), ('17日的英媒报道中充满了对梅的讽刺， ', 0.018647644338984925), ('然而，就在17日下午，首相官邸所在的唐宁街爆发了大规模抗议活动。', 0.018555693188207524)]\n"
     ]
    },
    {
     "data": {
      "text/plain": [
       "'火灾与脱欧炙烤英国首相 特雷莎·梅面临空前政治压力。路透社称，梅决定提前大选，又未能让保守党在大选中获得绝对多数，已经让英国陷入自一年前“脱欧”公投以来最深刻的政治危机中。英国《每日电讯报》称，议会选举败北后，梅对14日“格伦费尔塔”火灾的无情和迟钝反应令她陷入巨大的政治危险。'"
      ]
     },
     "execution_count": 5,
     "metadata": {},
     "output_type": "execute_result"
    }
   ],
   "source": [
    "# 对源码改动后的输出展示，可以看到出现了分割标点\n",
    "get_input_artical_summary(27)"
   ]
  },
  {
   "cell_type": "code",
   "execution_count": null,
   "id": "3b7acec6",
   "metadata": {},
   "outputs": [],
   "source": []
  },
  {
   "cell_type": "code",
   "execution_count": null,
   "id": "6319ef95",
   "metadata": {},
   "outputs": [],
   "source": []
  },
  {
   "cell_type": "code",
   "execution_count": null,
   "id": "50d4beb4",
   "metadata": {},
   "outputs": [],
   "source": []
  },
  {
   "cell_type": "code",
   "execution_count": null,
   "id": "42369c7c",
   "metadata": {},
   "outputs": [],
   "source": []
  }
 ],
 "metadata": {
  "kernelspec": {
   "display_name": "Python 3 (ipykernel)",
   "language": "python",
   "name": "python3"
  },
  "language_info": {
   "codemirror_mode": {
    "name": "ipython",
    "version": 3
   },
   "file_extension": ".py",
   "mimetype": "text/x-python",
   "name": "python",
   "nbconvert_exporter": "python",
   "pygments_lexer": "ipython3",
   "version": "3.9.7"
  }
 },
 "nbformat": 4,
 "nbformat_minor": 5
}
